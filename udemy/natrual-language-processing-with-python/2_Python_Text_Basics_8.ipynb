{
 "cells": [
  {
   "cell_type": "markdown",
   "metadata": {},
   "source": [
    "* We can use the PyPDF2 library to read in text data from a PDF file\n",
    "* Keep in mind: NOT ALL PDFS HAVE TEXT THAT CAN BE EXTRACTED!"
   ]
  },
  {
   "cell_type": "markdown",
   "metadata": {},
   "source": [
    "* Some PDFs are created through scanning,\n",
    "instead of being exported from a text editor like Word.\n",
    "* These scanned PDFs are more like image files,\n",
    "making it much harder to extract the text.\n",
    "* Often this requires specialized software!"
   ]
  },
  {
   "cell_type": "markdown",
   "metadata": {},
   "source": [
    "* The PyPDF2 library is made to extract text from PDF files directly created from a word processor,\n",
    "but keep in mind, not all word processors created PDFs extractable text!\n",
    "* To begin, make sure you are using our environment file\n",
    "(or you've installed PyPDF2)"
   ]
  },
  {
   "cell_type": "code",
   "execution_count": null,
   "metadata": {},
   "outputs": [],
   "source": []
  }
 ],
 "metadata": {
  "kernelspec": {
   "display_name": "Python 3",
   "language": "python",
   "name": "python3"
  },
  "language_info": {
   "codemirror_mode": {
    "name": "ipython",
    "version": 3
   },
   "file_extension": ".py",
   "mimetype": "text/x-python",
   "name": "python",
   "nbconvert_exporter": "python",
   "pygments_lexer": "ipython3",
   "version": "3.6.8"
  }
 },
 "nbformat": 4,
 "nbformat_minor": 2
}
