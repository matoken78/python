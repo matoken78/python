{
 "cells": [
  {
   "cell_type": "markdown",
   "metadata": {},
   "source": [
    "# 教師なし学習\n",
    "* 教師なし学習とは、回帰や分類による「予想」とは異なり、  \n",
    "ラベルなし学習データから「特徴を分析」するための手法。  \n",
    "* 「クラスター分析」「主成分分析」といった分析手法がある。"
   ]
  },
  {
   "cell_type": "markdown",
   "metadata": {},
   "source": [
    "# クラスタリング\n",
    "* クラスタリングは、大きく分けて「階層的」アルゴリズムと「非階層的」アルゴリズムに分けられ  \n",
    "それぞれに複数のアルゴリズムが存在する。"
   ]
  },
  {
   "cell_type": "markdown",
   "metadata": {},
   "source": [
    "# k平均法\n",
    "* k平均法は、非階層型クラスタリング。  \n",
    "* 非階層型クラスタリングは、あらかじめ観測データをいくつに分割するのか  \n",
    "その数(クラスタ数)を指定する。  \n",
    "* 例えば、クラスタ数3でクラスタリングを行うと、似た特徴を持ったグループ(クラスタ)に3分割される。  \n",
    "* k平均法のアルゴリズムでは、特徴ベクトルを最も近い重心のクラスタに割り振ることで分割を行う。  \n",
    "* k平均法では、次の手順で観測データをクラスタに分離する。\n",
    "    1. 各データにランダムなクラスタを割り当てる。\n",
    "    2. クラスタごとに重心(座標の平均)を求める。\n",
    "    3. 求まった重心を仮のクラスタの重心として、一番近いデータを重心のクラスタに変更する。\n",
    "    4. 再び重心を計算する。\n",
    "    5. 重心に変更があった場合は、仮のクラスタの重心として一番近いデータを重心のクラスタに変更し  \n",
    "    再び重心を求めるという作業を繰り返す。\n",
    "    6. 重心に変化がなくなるとクラスタリングが完了する。"
   ]
  },
  {
   "cell_type": "markdown",
   "metadata": {},
   "source": [
    "# k平均法を試す\n",
    "* scikit-learn の cluster.KMeans クラスで、クラスタリングを実行する。\n",
    "* パラメータ\n",
    "    * n_clusters: クラスタ数\n",
    "    * max_iter: k-means アルゴリズムの最大反復回数\n",
    "    * n_init: 初期の重心を選ぶ処理の数\n",
    "    * init: 初期化手法 'k-means++'、'random'、'ndarray'\n",
    "    * tol: 収束判定に用いる許容可能誤差\n",
    "    * precompute_distances: 距離を事前に計算するか否か\n",
    "    \n",
    "    KMeans の学習モデルに iris の計測データだけを渡して、うまくクラスタリングできるか試す。"
   ]
  },
  {
   "cell_type": "code",
   "execution_count": 7,
   "metadata": {},
   "outputs": [
    {
     "data": {
      "text/plain": [
       "array([0, 0, 0, 0, 0, 0, 0, 0, 0, 0, 0, 0, 0, 0, 0, 0, 0, 0, 0, 0, 0, 0,\n",
       "       0, 0, 0, 0, 0, 0, 0, 0, 0, 0, 0, 0, 0, 0, 0, 0, 0, 0, 0, 0, 0, 0,\n",
       "       0, 0, 0, 0, 0, 0, 1, 1, 2, 1, 1, 1, 1, 1, 1, 1, 1, 1, 1, 1, 1, 1,\n",
       "       1, 1, 1, 1, 1, 1, 1, 1, 1, 1, 1, 2, 1, 1, 1, 1, 1, 1, 1, 1, 1, 1,\n",
       "       1, 1, 1, 1, 1, 1, 1, 1, 1, 1, 1, 1, 2, 1, 2, 2, 2, 2, 1, 2, 2, 2,\n",
       "       2, 2, 2, 1, 1, 2, 2, 2, 2, 1, 2, 1, 2, 1, 2, 2, 1, 1, 2, 2, 2, 2,\n",
       "       2, 1, 2, 2, 2, 2, 1, 2, 2, 2, 1, 2, 2, 2, 1, 2, 2, 1])"
      ]
     },
     "execution_count": 7,
     "metadata": {},
     "output_type": "execute_result"
    }
   ],
   "source": [
    "from sklearn.datasets import load_iris\n",
    "iris_dataset = load_iris()\n",
    "iris_dataset[\"target\"]\n",
    "\n",
    "# k-means 学習モデルの生成\n",
    "from sklearn.cluster import KMeans\n",
    "kme = KMeans(n_clusters=3)\n",
    "\n",
    "# クラスタリング開始\n",
    "kme.fit(iris_dataset[\"data\"])\n",
    "\n",
    "kme.labels_"
   ]
  },
  {
   "cell_type": "markdown",
   "metadata": {},
   "source": []
  }
 ],
 "metadata": {
  "kernelspec": {
   "display_name": "Python 3",
   "language": "python",
   "name": "python3"
  },
  "language_info": {
   "codemirror_mode": {
    "name": "ipython",
    "version": 3
   },
   "file_extension": ".py",
   "mimetype": "text/x-python",
   "name": "python",
   "nbconvert_exporter": "python",
   "pygments_lexer": "ipython3",
   "version": "3.6.5"
  }
 },
 "nbformat": 4,
 "nbformat_minor": 2
}
