{
 "cells": [
  {
   "cell_type": "markdown",
   "metadata": {},
   "source": [
    "# 単純パーセプトロン  \n",
    "* 学習データを2クラス分類するアルゴリズム  \n",
    "* 入力に対する出力が教師データと異なる場合、「重み」を変更してから次の入力に進む。  \n",
    "出力が教師データと同じ場合、「重み」はそのまま。  \n",
    "これを繰り返して最適な「重み」を見つける。"
   ]
  },
  {
   "cell_type": "markdown",
   "metadata": {},
   "source": [
    "# バイアス\n",
    "* 単純パーセプトロンには、入力とひもづく「重み」がある。  \n",
    "実際の計算では「重み」に「バイアス」という値を加えて、「重み」を特定の方向に偏らせることができる。\n",
    "* 「バイアス」の値も学習中に調整される。"
   ]
  },
  {
   "cell_type": "markdown",
   "metadata": {},
   "source": [
    "# 活性化関数\n",
    "* 入力信号の総和がいくつになったら出力するかを決める関数  \n",
    "* 一般的に、「単純パーセプトロン」は 1 か 0 を出力するので、活性化関数には「ステップ関数」が使われる。"
   ]
  },
  {
   "cell_type": "code",
   "execution_count": 99,
   "metadata": {},
   "outputs": [
    {
     "data": {
      "image/png": "[encoded data removed]",
      "text/plain": [
       "<Figure size 432x288 with 1 Axes>"
      ]
     },
     "metadata": {
      "needs_background": "light"
     },
     "output_type": "display_data"
    }
   ],
   "source": [
    "import numpy as np\n",
    "import matplotlib.pyplot as plt\n",
    "%matplotlib inline\n",
    "\n",
    "x = np.arange(-5.0, 5.0, 0.1)\n",
    "y = np.array(x > 0)\n",
    "plt.plot(x, y)\n",
    "plt.ylim(-0.1, 1.1)\n",
    "plt.title('Step Function')\n",
    "plt.show()"
   ]
  },
  {
   "cell_type": "markdown",
   "metadata": {},
   "source": [
    "# 単純パーセプトロンの学習方法\n",
    "* クラス1とクラス2を2分する直線のあるグラフを考える。  \n",
    "* 直線を「決定境界」、直線でクラス分割できることを「線形分離可能」と言う。  \n",
    "* 決定境界の直線は、未知のデータが入力されたとき、データがどちらのクラスに分類されるかを決める。  \n",
    "この決定境界の直線を引くには、「重みベクトル係数」を求める必要がある。\n",
    "\n",
    "## 重みベクトル係数の求め方\n",
    "1. 最適な決定境界が引かれているとして、直線を境に正の側と負の側に分ける。  \n",
    "正の側にあるのか負の側にあるのかを判断する関数を「識別関数」と言う。  \n",
    "2. 負の側のデータを反転移動して正の側に移動する。  \n",
    "⇒ 決定境界は、「重みベクトルを法線ベクトルとする直線」を求めればよい。\n",
    "3. 「重みベクトルを法線ベクトルとする直線」を引くために、重みベクトルの係数 w を求める。  \n",
    "この係数は「パラメータ」とも呼ばれる。\n",
    "4. まず、適当な係数を用意して、「仮の決定境界」を引く。  \n",
    "もともと正の側のラベルのデータはそのまま。負の側のラベルのデータは反転移動しておく。\n",
    "5. 学習データを読み込み、正の側にある場合には、そのまま。  \n",
    "負の側にある場合には、重みベクトルの係数を変更して傾きを回転させ、正の側にくるようにする。  \n",
    "順々に学習データを読み込みながら、重みベクトルの係数を逐次調整する。\n",
    "6. データの読み込みが完了すると、すべてのデータが正の側にくる。  \n",
    "これにより、「重みベクトルを法線ベクトルとする直線」が引けることになる。\n",
    "7. 反転してあったデータ（負の側のラベルのデータ）を再び反転させると、直線を2分する決定境界になっている、"
   ]
  },
  {
   "cell_type": "markdown",
   "metadata": {},
   "source": [
    "# scikit-learn のパーセプトロン\n",
    "* iris データセットの識別が可能かどうか試す。\n",
    "* データを正規化して、値のバラツキを抑えて扱いやすくする。"
   ]
  },
  {
   "cell_type": "code",
   "execution_count": 100,
   "metadata": {},
   "outputs": [],
   "source": [
    "from sklearn.datasets import load_iris\n",
    "iris_dataset = load_iris()\n",
    "\n",
    "from sklearn.model_selection import train_test_split\n",
    "X_train, X_test, y_train, y_test = train_test_split(iris_dataset['data'], iris_dataset['target'], test_size=0.3, random_state=0)\n",
    "\n",
    "from sklearn.preprocessing import StandardScaler\n",
    "sc = StandardScaler()\n",
    "\n",
    "# データセットを StandardScaler にセット\n",
    "sc.fit(X_train)\n",
    "\n",
    "# データセットを正規化\n",
    "X_train = sc.transform(X_train)\n",
    "X_test = sc.transform(X_test)"
   ]
  },
  {
   "cell_type": "markdown",
   "metadata": {},
   "source": [
    "パーセプトロンの学習モデルを生成する。  \n",
    "パーセプトロンでは、重みベクトル w が少しずつ変更され、決定境界の直線が最適化されていく。  \n",
    "* パラメータ eta0 は、1度にどれくらい傾かせるかを決める値。  \n",
    "この値が小さいほど最適値に到達しやすくなるが、試行回数が増えて処理が遅くなる。  \n",
    "何度か実行して効率の良いパラメータ値にすべきかもしれない。"
   ]
  },
  {
   "cell_type": "code",
   "execution_count": 101,
   "metadata": {},
   "outputs": [
    {
     "data": {
      "text/plain": [
       "Perceptron(alpha=0.0001, class_weight=None, early_stopping=False, eta0=0.01,\n",
       "      fit_intercept=True, max_iter=100, n_iter=None, n_iter_no_change=5,\n",
       "      n_jobs=None, penalty=None, random_state=0, shuffle=True, tol=0.001,\n",
       "      validation_fraction=0.1, verbose=0, warm_start=False)"
      ]
     },
     "execution_count": 101,
     "metadata": {},
     "output_type": "execute_result"
    }
   ],
   "source": [
    "from sklearn.linear_model import Perceptron\n",
    "ppn = Perceptron(max_iter=100, eta0=0.01, random_state=0, shuffle=True, tol=1e-3)\n",
    "ppn.fit(X_train, y_train)"
   ]
  },
  {
   "cell_type": "markdown",
   "metadata": {},
   "source": [
    "学習が完了したので、精度、誤分類した数、正解率を評価する。"
   ]
  },
  {
   "cell_type": "code",
   "execution_count": 102,
   "metadata": {},
   "outputs": [
    {
     "name": "stdout",
     "output_type": "stream",
     "text": [
      "精度:0.89\n",
      "誤分類した数:5\n",
      "正解率:0.89\n"
     ]
    }
   ],
   "source": [
    "y_pred = ppn.predict(X_test)\n",
    "\n",
    "import numpy as np\n",
    "from sklearn.metrics import accuracy_score\n",
    "print('精度:{:.2f}'.format(np.mean(y_pred == y_test)))\n",
    "print('誤分類した数:{}'.format((y_test != y_pred).sum()))\n",
    "print('正解率:{:.2f}'.format(accuracy_score(y_test, y_pred)))"
   ]
  },
  {
   "cell_type": "markdown",
   "metadata": {},
   "source": [
    "学習データは、いつも「線形分離可能」とは限らない。  \n",
    "直線で分離できないものは「非線形分離可能」と言い、それに対応したアルゴリズムを使用する。  \n",
    "例えば「ロジスティック回帰」や「サポートベクターマシン」を使うことになる。"
   ]
  }
 ],
 "metadata": {
  "kernelspec": {
   "display_name": "Python 3",
   "language": "python",
   "name": "python3"
  },
  "language_info": {
   "codemirror_mode": {
    "name": "ipython",
    "version": 3
   },
   "file_extension": ".py",
   "mimetype": "text/x-python",
   "name": "python",
   "nbconvert_exporter": "python",
   "pygments_lexer": "ipython3",
   "version": "3.7.2"
  }
 },
 "nbformat": 4,
 "nbformat_minor": 2
}
