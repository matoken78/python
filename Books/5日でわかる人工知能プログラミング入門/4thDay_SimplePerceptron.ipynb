{
 "cells": [
  {
   "cell_type": "markdown",
   "metadata": {},
   "source": [
    "単純パーセプトロンとは、学習データをクラス1かクラス2（1か0）のどちらかに分類するアルゴリズム。\n",
    "このような分類方法を「2クラス分類」（2値分類）という。\n",
    "\n",
    "単純パーセプトロンは、入力に対する出力が教師データと異なる場合、「重み」を変更してから次の入力に進む。\n",
    "もし、出力が教師データと一致した場合、重みはそのまま。\n",
    "これを繰り返して、最適な重みを見つける。\n",
    "\n",
    "実際の計算では、重みに「バイアス」という値を加えて、重みを特定の方向に偏らせることができる。\n",
    "このバイアス値も、学習中に調整される。\n",
    "\n",
    "活性化関数は、入力信号の総和がいくつになったら出力するのかを決める関数。\n",
    "一般的に、単純パーセプトロンは1か0を出力するので、「ステップ関数」が使われる。"
   ]
  },
  {
   "cell_type": "code",
   "execution_count": 2,
   "metadata": {},
   "outputs": [
    {
     "data": {
      "image/png": "[encoded data removed]",
      "text/plain": [
       "<Figure size 432x288 with 1 Axes>"
      ]
     },
     "metadata": {},
     "output_type": "display_data"
    }
   ],
   "source": [
    "# ステップ関数\n",
    "import numpy as np\n",
    "import matplotlib.pyplot as plt\n",
    "%matplotlib inline\n",
    "\n",
    "x = np.arange(-5.0, 5.0, 0.1)\n",
    "y = np.array(x > 0)\n",
    "plt.plot(x, y)\n",
    "plt.ylim(-0.1, 1.1)\n",
    "plt.show()"
   ]
  },
  {
   "cell_type": "markdown",
   "metadata": {},
   "source": [
    "クラス1とクラス2を2分する直線を「決定境界」、直線でクラスを分割できることを「線形分離可能」という。\n",
    "決定境界の直線を引くには、「重みベクトル係数」を求める必要がある。\n",
    "\n",
    "重みベクトル係数を求めるには、まず直線を境にして正の側、負の側に分ける。\n",
    "正の側、負の側にあるのかを判断する関数を「識別関数」と言う。\n",
    "決定境界を「識別面」と呼ぶ。\n",
    "次に、負の側のデータを正の側に反転移動する。\n",
    "反転移動しても決定境界自体に影響はない。\n",
    "つまり「重みベクトルを法線ベクトルとする直線」を求めれば良いことになる。"
   ]
  },
  {
   "cell_type": "code",
   "execution_count": 3,
   "metadata": {},
   "outputs": [],
   "source": [
    "from sklearn.datasets import load_iris\n",
    "iris_dataset = load_iris()"
   ]
  },
  {
   "cell_type": "code",
   "execution_count": 4,
   "metadata": {},
   "outputs": [],
   "source": [
    "from sklearn.model_selection import train_test_split\n",
    "x_train, x_test, y_train, y_test = train_test_split(iris_dataset['data'], iris_dataset['target'], test_size=0.3, random_state=0)"
   ]
  },
  {
   "cell_type": "code",
   "execution_count": 5,
   "metadata": {},
   "outputs": [],
   "source": [
    "# データを正規化\n",
    "from sklearn.preprocessing import StandardScaler\n",
    "sc = StandardScaler()\n",
    "\n",
    "sc.fit(x_train)\n",
    "x_train = sc.transform(x_train)\n",
    "x_test = sc.transform(x_test)"
   ]
  },
  {
   "cell_type": "code",
   "execution_count": 8,
   "metadata": {},
   "outputs": [],
   "source": [
    "# パラメータ eta0：一度にどれくらい傾かせるかを決める値。\n",
    "#                  この値が小さいほど、最適値に到達しやすくなる。\n",
    "#                  ただし、一度に傾く量がわずかだと、試行回数が増えて処理が遅くなる。\n",
    "\n",
    "from sklearn.linear_model import Perceptron\n",
    "ppn = Perceptron(max_iter=100, eta0=0.1, random_state=0, shuffle=True)"
   ]
  },
  {
   "cell_type": "code",
   "execution_count": 10,
   "metadata": {},
   "outputs": [
    {
     "data": {
      "text/plain": [
       "Perceptron(alpha=0.0001, class_weight=None, eta0=0.1, fit_intercept=True,\n",
       "      max_iter=100, n_iter=None, n_jobs=1, penalty=None, random_state=0,\n",
       "      shuffle=True, tol=None, verbose=0, warm_start=False)"
      ]
     },
     "execution_count": 10,
     "metadata": {},
     "output_type": "execute_result"
    }
   ],
   "source": [
    "ppn.fit(x_train, y_train)"
   ]
  },
  {
   "cell_type": "code",
   "execution_count": 12,
   "metadata": {},
   "outputs": [
    {
     "data": {
      "text/plain": [
       "0.9777777777777777"
      ]
     },
     "execution_count": 12,
     "metadata": {},
     "output_type": "execute_result"
    }
   ],
   "source": [
    "# 予測精度\n",
    "y_pred = ppn.predict(x_test)\n",
    "import numpy as np\n",
    "np.mean(y_pred == y_test)"
   ]
  },
  {
   "cell_type": "code",
   "execution_count": 15,
   "metadata": {},
   "outputs": [
    {
     "name": "stdout",
     "output_type": "stream",
     "text": [
      "誤分類:1\n"
     ]
    }
   ],
   "source": [
    "# 誤分類した数\n",
    "print('誤分類:%d' % (y_test != y_pred).sum())"
   ]
  },
  {
   "cell_type": "code",
   "execution_count": 16,
   "metadata": {},
   "outputs": [
    {
     "name": "stdout",
     "output_type": "stream",
     "text": [
      "正解率: 0.98\n"
     ]
    }
   ],
   "source": [
    "# 正解率\n",
    "from sklearn.metrics import accuracy_score\n",
    "print('正解率: %.2f' % accuracy_score(y_test, y_pred))"
   ]
  }
 ],
 "metadata": {
  "kernelspec": {
   "display_name": "Python 3",
   "language": "python",
   "name": "python3"
  },
  "language_info": {
   "codemirror_mode": {
    "name": "ipython",
    "version": 3
   },
   "file_extension": ".py",
   "mimetype": "text/x-python",
   "name": "python",
   "nbconvert_exporter": "python",
   "pygments_lexer": "ipython3",
   "version": "3.6.5"
  }
 },
 "nbformat": 4,
 "nbformat_minor": 2
}
