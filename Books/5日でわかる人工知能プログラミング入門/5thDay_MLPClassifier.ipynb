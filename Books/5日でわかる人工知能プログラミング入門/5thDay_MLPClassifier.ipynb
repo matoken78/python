{
 "cells": [
  {
   "cell_type": "markdown",
   "metadata": {},
   "source": [
    "# MLPClassifier\n",
    "scikit-learn の MLPClassifier クラスは、多層パーセプトロン(MLP)方式で実装されている。\n",
    "* パラメータ\n",
    "    * hidden_layer_sizes: 隠れ層の層の数とニューロンの数\n",
    "    * activation: 活性化関数 \"identify\"、\"logistic\"、\"tanh\"、\"relu\"\n",
    "    * solver: 最適化手法 \"lbfgs\"、\"sgd\"、\"adam\"\n",
    "    * alpha: L2正則化のパラメータ\n",
    "    * learning_rate_unit: 重みの学習率の初期値\n",
    "    * learning_rate: 重みの学習率の更新方法 \"constant\"、\"invscaling\"、\"adaptive\"\n",
    "    * max_iter: 試行回数の最大値\n",
    "    * shuffle: 学習を反復するごとに学習データをシャッフルするかどうか\n",
    "    * random_state: 乱数のシード値\n",
    "    * warm_start: 2回目のfit関数を呼ぶ際、学習済みの重みを引き継ぐか否か"
   ]
  },
  {
   "cell_type": "markdown",
   "metadata": {},
   "source": [
    "# ニューラルネットワークで iris を分類\n",
    "MLPClassifier を使って、数値データに対するデータセットである irisデータセットを分類する。"
   ]
  },
  {
   "cell_type": "code",
   "execution_count": 114,
   "metadata": {},
   "outputs": [],
   "source": [
    "from sklearn.datasets import load_iris\n",
    "iris = load_iris()\n",
    "x = iris.data\n",
    "y = iris.target\n",
    "\n",
    "from sklearn.model_selection import train_test_split\n",
    "X_train, X_test, y_train, y_test = train_test_split(x, y, test_size=0.3, random_state=0)"
   ]
  },
  {
   "cell_type": "code",
   "execution_count": 115,
   "metadata": {},
   "outputs": [
    {
     "name": "stderr",
     "output_type": "stream",
     "text": [
      "c:\\users\\matok\\appdata\\local\\programs\\python\\python36\\lib\\site-packages\\sklearn\\neural_network\\multilayer_perceptron.py:564: ConvergenceWarning: Stochastic Optimizer: Maximum iterations (200) reached and the optimization hasn't converged yet.\n",
      "  % self.max_iter, ConvergenceWarning)\n"
     ]
    },
    {
     "data": {
      "text/plain": [
       "MLPClassifier(activation='relu', alpha=0.0001, batch_size='auto', beta_1=0.9,\n",
       "       beta_2=0.999, early_stopping=False, epsilon=1e-08,\n",
       "       hidden_layer_sizes=(100,), learning_rate='constant',\n",
       "       learning_rate_init=0.001, max_iter=200, momentum=0.9,\n",
       "       nesterovs_momentum=True, power_t=0.5, random_state=None,\n",
       "       shuffle=True, solver='adam', tol=0.0001, validation_fraction=0.1,\n",
       "       verbose=False, warm_start=False)"
      ]
     },
     "execution_count": 115,
     "metadata": {},
     "output_type": "execute_result"
    }
   ],
   "source": [
    "from sklearn.neural_network import MLPClassifier\n",
    "mlpc = MLPClassifier()\n",
    "mlpc.fit(X_train, y_train)"
   ]
  },
  {
   "cell_type": "code",
   "execution_count": 116,
   "metadata": {},
   "outputs": [
    {
     "data": {
      "text/plain": [
       "0.9333333333333333"
      ]
     },
     "execution_count": 116,
     "metadata": {},
     "output_type": "execute_result"
    }
   ],
   "source": [
    "pred = mlpc.predict(X_test)\n",
    "\n",
    "import numpy as np\n",
    "np.mean(pred == y_test)"
   ]
  },
  {
   "cell_type": "markdown",
   "metadata": {},
   "source": [
    "正解率が低いようなので、Warning が出ていた max_iter の回数を増やして正解率向上を確認する。"
   ]
  },
  {
   "cell_type": "code",
   "execution_count": 117,
   "metadata": {},
   "outputs": [
    {
     "data": {
      "text/plain": [
       "0.9777777777777777"
      ]
     },
     "execution_count": 117,
     "metadata": {},
     "output_type": "execute_result"
    }
   ],
   "source": [
    "mlpc = MLPClassifier(max_iter=1000)\n",
    "mlpc.fit(X_train, y_train)\n",
    "pred = mlpc.predict(X_test)\n",
    "\n",
    "import numpy as np\n",
    "np.mean(pred == y_test)"
   ]
  },
  {
   "cell_type": "markdown",
   "metadata": {},
   "source": [
    "# ニューラルネットワークで 簡易手書き数字データの認識\n",
    "digits データを読み込み、動作を確認する。"
   ]
  },
  {
   "cell_type": "code",
   "execution_count": 118,
   "metadata": {},
   "outputs": [],
   "source": [
    "from sklearn.datasets import load_digits\n",
    "digits = load_digits()\n",
    "\n",
    "from sklearn.model_selection import train_test_split\n",
    "X_train, X_test, y_train, y_test = train_test_split(digits[\"data\"], digits[\"target\"], test_size=0.3, random_state=0)"
   ]
  },
  {
   "cell_type": "code",
   "execution_count": 119,
   "metadata": {},
   "outputs": [
    {
     "data": {
      "text/plain": [
       "MLPClassifier(activation='relu', alpha=0.0001, batch_size='auto', beta_1=0.9,\n",
       "       beta_2=0.999, early_stopping=False, epsilon=1e-08,\n",
       "       hidden_layer_sizes=(100,), learning_rate='constant',\n",
       "       learning_rate_init=0.001, max_iter=1000, momentum=0.9,\n",
       "       nesterovs_momentum=True, power_t=0.5, random_state=None,\n",
       "       shuffle=True, solver='adam', tol=0.0001, validation_fraction=0.1,\n",
       "       verbose=False, warm_start=False)"
      ]
     },
     "execution_count": 119,
     "metadata": {},
     "output_type": "execute_result"
    }
   ],
   "source": [
    "from sklearn.neural_network import MLPClassifier\n",
    "mlpc = MLPClassifier(max_iter=1000)\n",
    "mlpc.fit(X_train, y_train)"
   ]
  },
  {
   "cell_type": "code",
   "execution_count": 120,
   "metadata": {},
   "outputs": [
    {
     "data": {
      "text/plain": [
       "0.9703703703703703"
      ]
     },
     "execution_count": 120,
     "metadata": {},
     "output_type": "execute_result"
    }
   ],
   "source": [
    "pred = mlpc.predict(X_test)\n",
    "import numpy as np\n",
    "np.mean(pred == y_test)"
   ]
  },
  {
   "cell_type": "markdown",
   "metadata": {},
   "source": [
    "他のアルゴリズムより若干成績が良い気がするので  \n",
    "どのように分類したのか、数字ごとに確認する。"
   ]
  },
  {
   "cell_type": "code",
   "execution_count": 121,
   "metadata": {},
   "outputs": [
    {
     "data": {
      "text/plain": [
       "Predicted   0   1   2   3   4   5   6   7   8   9  __all__\n",
       "Actual                                                    \n",
       "0          45   0   0   0   0   0   0   0   0   0       45\n",
       "1           0  49   0   0   0   0   1   0   1   1       52\n",
       "2           0   1  52   0   0   0   0   0   0   0       53\n",
       "3           0   0   0  53   0   0   0   0   1   0       54\n",
       "4           0   0   0   0  48   0   0   0   0   0       48\n",
       "5           0   0   0   1   0  54   1   0   0   1       57\n",
       "6           0   1   0   0   0   0  59   0   0   0       60\n",
       "7           0   0   0   0   0   0   0  53   0   0       53\n",
       "8           0   1   0   1   0   1   1   0  57   0       61\n",
       "9           0   0   0   2   0   0   0   0   1  54       57\n",
       "__all__    45  52  52  57  48  55  62  53  60  56      540"
      ]
     },
     "execution_count": 121,
     "metadata": {},
     "output_type": "execute_result"
    }
   ],
   "source": [
    "from pandas_ml import ConfusionMatrix\n",
    "\n",
    "ConfusionMatrix(y_test, pred, labels=digits[\"target_names\"])"
   ]
  }
 ],
 "metadata": {
  "kernelspec": {
   "display_name": "Python 3",
   "language": "python",
   "name": "python3"
  },
  "language_info": {
   "codemirror_mode": {
    "name": "ipython",
    "version": 3
   },
   "file_extension": ".py",
   "mimetype": "text/x-python",
   "name": "python",
   "nbconvert_exporter": "python",
   "pygments_lexer": "ipython3",
   "version": "3.6.5"
  }
 },
 "nbformat": 4,
 "nbformat_minor": 2
}
