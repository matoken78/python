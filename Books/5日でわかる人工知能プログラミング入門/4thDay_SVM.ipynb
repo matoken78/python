{
 "cells": [
  {
   "cell_type": "markdown",
   "metadata": {},
   "source": [
    "# Support Vector Machine (SVM)\n",
    "* SVM の特徴\n",
    "    「マージン最大化」と「カーネルトリック」  \n",
    "    マージン最大化は、線形分離可能なデータに対してのみ有効だが  \n",
    "    カーネルトリックという手法を取り入れることで線形分離が難しい問題にも対処している。\n",
    "\n",
    "    * マージン最大化  \n",
    "    マージンとは、識別面と2つのクラス間の距離のこと。  \n",
    "    このマージンが最大になるようにすることで、汎化能力を最大にするというもの。  \n",
    "    マージン最大化により、SVMは評価データ(未知のデータ)に対して  \n",
    "    判別精度が高い(汎化性能が高い)アルゴリズムになっている。  \n",
    "    * カーネルトリック  \n",
    "    カーネルトリックとは、高次元空間上で線形分析を行う機能のこと。  \n",
    "    2次元の分析ではなく、3次元、4次元へと写像して線形分析を行う。"
   ]
  },
  {
   "cell_type": "code",
   "execution_count": 18,
   "metadata": {},
   "outputs": [],
   "source": [
    "# 学習データの読み込み\n",
    "from sklearn.datasets import load_digits\n",
    "digits = load_digits()\n",
    "\n",
    "from sklearn.model_selection import train_test_split\n",
    "X_train, X_test, y_train, y_test = train_test_split(digits['data'], digits['target'], test_size=0.3, random_state=0)"
   ]
  },
  {
   "cell_type": "markdown",
   "metadata": {},
   "source": [
    "非線形な識別を可能にする学習モデルを作るには  \n",
    "sklearn の svm.SVC を使用する。\n",
    "\n",
    "#### パラメータ\n",
    "* C: 誤分類を許容する尺度\n",
    "* gamma: kernel が rbf、poly、sigmoid の場合の決定境界の複雑度合い(大きいほど複雑になる)\n",
    "* kernel: カーネルの種類(linear、poly、rbf、sigmoid、precomputed)"
   ]
  },
  {
   "cell_type": "code",
   "execution_count": 19,
   "metadata": {},
   "outputs": [
    {
     "data": {
      "text/plain": [
       "SVC(C=100.0, cache_size=200, class_weight=None, coef0=0.0,\n",
       "  decision_function_shape='ovr', degree=3, gamma=0.001, kernel='rbf',\n",
       "  max_iter=-1, probability=False, random_state=None, shrinking=True,\n",
       "  tol=0.001, verbose=False)"
      ]
     },
     "execution_count": 19,
     "metadata": {},
     "output_type": "execute_result"
    }
   ],
   "source": [
    "# 学習モデルの生成\n",
    "from sklearn import svm\n",
    "clf = svm.SVC(gamma=0.001, C=100., kernel='rbf')\n",
    "\n",
    "# 学習モデルの学習\n",
    "clf.fit(X_train, y_train)"
   ]
  },
  {
   "cell_type": "markdown",
   "metadata": {},
   "source": [
    "学習モデルを学習したので、精度を確認する。"
   ]
  },
  {
   "cell_type": "code",
   "execution_count": 20,
   "metadata": {},
   "outputs": [
    {
     "data": {
      "text/plain": [
       "0.9907407407407407"
      ]
     },
     "execution_count": 20,
     "metadata": {},
     "output_type": "execute_result"
    }
   ],
   "source": [
    "pred = clf.predict(X_test)\n",
    "import numpy as np\n",
    "np.mean(pred == y_test)"
   ]
  },
  {
   "cell_type": "markdown",
   "metadata": {},
   "source": [
    "それぞれの数字の正解、不正解を確認する。"
   ]
  },
  {
   "cell_type": "code",
   "execution_count": 21,
   "metadata": {},
   "outputs": [
    {
     "data": {
      "text/plain": [
       "Predicted   0   1   2   3   4   5   6   7   8   9  __all__\n",
       "Actual                                                    \n",
       "0          45   0   0   0   0   0   0   0   0   0       45\n",
       "1           0  52   0   0   0   0   0   0   0   0       52\n",
       "2           0   0  52   0   0   0   0   1   0   0       53\n",
       "3           0   0   0  54   0   0   0   0   0   0       54\n",
       "4           0   0   0   0  48   0   0   0   0   0       48\n",
       "5           0   0   0   0   0  55   1   0   0   1       57\n",
       "6           0   0   0   0   0   0  60   0   0   0       60\n",
       "7           0   0   0   0   0   0   0  53   0   0       53\n",
       "8           0   1   0   0   0   0   0   0  60   0       61\n",
       "9           0   0   0   0   0   1   0   0   0  56       57\n",
       "__all__    45  53  52  54  48  56  61  54  60  57      540"
      ]
     },
     "execution_count": 21,
     "metadata": {},
     "output_type": "execute_result"
    }
   ],
   "source": [
    "from pandas_ml import ConfusionMatrix\n",
    "\n",
    "ConfusionMatrix(y_test, pred, labels=digits['target_names'])"
   ]
  }
 ],
 "metadata": {
  "kernelspec": {
   "display_name": "Python 3",
   "language": "python",
   "name": "python3"
  },
  "language_info": {
   "codemirror_mode": {
    "name": "ipython",
    "version": 3
   },
   "file_extension": ".py",
   "mimetype": "text/x-python",
   "name": "python",
   "nbconvert_exporter": "python",
   "pygments_lexer": "ipython3",
   "version": "3.6.5"
  }
 },
 "nbformat": 4,
 "nbformat_minor": 2
}
